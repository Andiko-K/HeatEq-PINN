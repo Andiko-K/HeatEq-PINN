{
 "cells": [
  {
   "cell_type": "code",
   "execution_count": 13,
   "id": "9ffd35d1-7bd7-43a2-a12c-7f420651e524",
   "metadata": {},
   "outputs": [],
   "source": [
    "import tensorflow as tf\n",
    "import numpy as np\n",
    "import matplotlib.pyplot as plt\n",
    "\n",
    "import os\n",
    "os.environ['TF_CPP_MIN_LOG_LEVEL'] = '3'"
   ]
  },
  {
   "cell_type": "code",
   "execution_count": 15,
   "id": "77778a2d-cd06-4925-8565-c26920766c70",
   "metadata": {},
   "outputs": [],
   "source": [
    "#Define Neural Network Model\n",
    "def nn_model(input_shape = (3,), layers = None):\n",
    "    input_ = tf.keras.layers.Input(shape = input_shape)\n",
    "    x = tf.keras.layers.Dense(layers[0], activation = 'tanh')(input_)\n",
    "    for layer in layers[1:-1]:\n",
    "        x = tf.keras.layers.Dense(layer, activation = 'tanh')(x)\n",
    "    output = tf.keras.layers.Dense(layers[-1])(x)\n",
    "    model = tf.keras.Model(input_, output)\n",
    "    return model\n",
    "    \n",
    "#Define PDE Layers\n",
    "def compute_pde(model, x, y, t, alpha = 1e-4):\n",
    "    with tf.GradientTape(persistent = True) as tape:\n",
    "        tape.watch([x,y,t])\n",
    "        u = model(tf.stack([x,y,t], axis = 1))\n",
    "        u_x = tape.gradient(u,x)\n",
    "        u_y = tape.gradient(u,y)\n",
    "        u_t = tape.gradient(u,t)\n",
    "    u_xx = tape.gradient(u_x, x)\n",
    "    u_yy = tape.gradient(u_y, y)\n",
    "    del tape\n",
    "    \n",
    "    f = u_t - alpha*(u_xx+u_yy)\n",
    "    return f\n",
    "\n",
    "#Compute Loss Function of U\n",
    "def compute_loss(model, x, y, t, u_init):\n",
    "    # PDE Lossa\n",
    "    f = compute_pde(model, x, y, t)\n",
    "    mse_f = tf.reduce_mean(tf.square(f))\n",
    "    \n",
    "    #Initial Loss -- u(x,t=0)\n",
    "    t_init = tf.zeros_like(x)\n",
    "    u_init_p = model(tf.stack([x, y, t_init], axis = 1))\n",
    "    mse_init = tf.reduce_mean(tf.square(u_init_p-u_init))\n",
    "    \n",
    "    mse_total = mse_init + mse_f\n",
    "    return mse_total\n",
    "    \n",
    "    #Boundary Loss (Drichlet and Neumann)\n",
    "    #----\n",
    "\n",
    "# Training Step\n",
    "@tf.function\n",
    "def train_step(model, optimizer, x, y, t, u_init):\n",
    "    with tf.GradientTape() as tape:\n",
    "        loss = compute_loss(model, x, y, t, u_init)\n",
    "\n",
    "    gradients = tape.gradient(loss, model.trainable_variables)\n",
    "    optimizer.apply_gradients(zip(gradients, model.trainable_variables))\n",
    "    return loss\n"
   ]
  },
  {
   "cell_type": "code",
   "execution_count": 43,
   "id": "649f6fc3-938d-4b75-8b9f-da86683e5cf0",
   "metadata": {},
   "outputs": [],
   "source": [
    "#Initializing X,Y,T\n",
    "dim = 100\n",
    "x = np.linspace(0,1,dim, dtype = np.float32)\n",
    "y = np.linspace(0,1,dim, dtype = np.float32)\n",
    "t = np.linspace(0,10,dim, dtype = np.float32).reshape(-1,1)\n",
    "\n",
    "X,Y = np.meshgrid(x,y)\n",
    "u_init = np.zeros_like(X)\n",
    "u_init[50:70, 50:70] = 1."
   ]
  },
  {
   "cell_type": "code",
   "execution_count": 45,
   "id": "bc56f866-9095-48f6-ba75-af57c173cd03",
   "metadata": {},
   "outputs": [],
   "source": [
    "X = tf.constant(X.reshape(-1,1), dtype=tf.float32)\n",
    "Y = tf.constant(Y.reshape(-1,1), dtype = tf.float32)\n",
    "T = tf.constant(np.tile(t,(dim,1)), dtype=tf.float32)\n",
    "u_init = tf.constant(u_init.reshape(-1,1), dtype = tf.float32)"
   ]
  },
  {
   "cell_type": "code",
   "execution_count": 9,
   "id": "a62dea97-6ce4-4388-bc99-4532c5d1bd74",
   "metadata": {},
   "outputs": [
    {
     "name": "stdout",
     "output_type": "stream",
     "text": [
      "WARNING:tensorflow:Calling GradientTape.gradient on a persistent tape inside its context is significantly less efficient than calling it outside the context (it causes the gradient ops to be recorded on the tape, leading to increased CPU and memory usage). Only call GradientTape.gradient inside the context if you actually want to trace the gradient in order to compute higher order derivatives.\n",
      "Epoch 0, Loss: 0.06395460665225983\n",
      "Epoch 100, Loss: 0.03690415620803833\n",
      "Epoch 200, Loss: 0.03341003879904747\n",
      "Epoch 300, Loss: 0.020654356107115746\n",
      "Epoch 400, Loss: 0.009055663831532001\n",
      "Epoch 500, Loss: 0.008134775795042515\n",
      "Epoch 600, Loss: 0.007624877151101828\n",
      "Epoch 700, Loss: 0.007708895951509476\n",
      "Epoch 800, Loss: 0.006560399662703276\n",
      "Epoch 900, Loss: 0.005755540449172258\n"
     ]
    }
   ],
   "source": [
    "# Build and compile the model\n",
    "model = nn_model(input_shape=(3,), layers = [128,128,64,64,1])\n",
    "\n",
    "optimizer = tf.keras.optimizers.Adam()\n",
    "\n",
    "# Training loop\n",
    "epochs = 1000\n",
    "for epoch in range(epochs):\n",
    "    loss = train_step(model, optimizer, X, Y, t, u_init)\n",
    "    if epoch % 100 == 0:\n",
    "        print(f'Epoch {epoch}, Loss: {loss.numpy()}')"
   ]
  },
  {
   "cell_type": "code",
   "execution_count": 10,
   "id": "077c82ee-a390-496c-bc66-d9c2c8d89b9b",
   "metadata": {},
   "outputs": [],
   "source": [
    "# Predict and Visualization\n",
    "x_new = np.linspace(0,1,100).reshape(-1,1)\n",
    "y_new = np.linspace(0,1,100).reshape(-1,1)\n",
    "t_new = np.linspace(0,10,100).reshape(-1,1)\n",
    "\n",
    "X_new, Y_new, T_new = np.meshgrid(x_new, y_new, t_new, indexing = 'ij')\n",
    "shape = X_new.shape\n",
    "\n",
    "X_new_tf = tf.constant(X_new.reshape(-1,1), dtype=tf.float32)\n",
    "Y_new_tf = tf.constant(Y_new.reshape(-1,1), dtype = tf.float32)\n",
    "T_new_tf = tf.constant(T_new.reshape(-1,1), dtype=tf.float32)\n",
    "\n",
    "input_new = tf.concat([X_new_tf, Y_new_tf, T_new_tf], axis=1)\n",
    "u_pred = model.predict(input_new)\n",
    "u_pred = u_pred.reshape(shape)"
   ]
  },
  {
   "cell_type": "code",
   "execution_count": 11,
   "id": "6aff133e-b90c-429c-b5e7-10df7047db45",
   "metadata": {},
   "outputs": [
    {
     "data": {
      "image/png": "[encoded data removed]",
      "text/plain": [
       "<Figure size 640x480 with 2 Axes>"
      ]
     },
     "metadata": {},
     "output_type": "display_data"
    }
   ],
   "source": [
    "from matplotlib.animation import FuncAnimation\n",
    "\n",
    "fig, ax = plt.subplots()\n",
    "vmin = u_pred.min(); vmax = u_pred.max()\n",
    "contour = ax.contourf(X_new[:,:,0], Y_new[:,:,0], u_pred[:,:,0], vmin=vmin, vmax=vmax)\n",
    "\n",
    "def update(frame):\n",
    "    ax.clear()  # Clear previous plot # Reset y-axis limits\n",
    "    contour = ax.contourf(X_new[:,:,0], Y_new[:,:,0], u_pred[:,:,frame], \n",
    "                          vmin = vmin, vmax = vmax)\n",
    "    return contour\n",
    "\n",
    "num_frames = u_pred.shape[-1]\n",
    "ani = FuncAnimation(fig, update, frames=num_frames, interval=200)\n",
    "\n",
    "cbar = plt.colorbar(contour, ax=ax)\n",
    "\n",
    "plt.show()"
   ]
  },
  {
   "cell_type": "code",
   "execution_count": 12,
   "id": "925813f3-53ec-4fe1-b28a-89a2893fd8bf",
   "metadata": {},
   "outputs": [
    {
     "name": "stderr",
     "output_type": "stream",
     "text": [
      "MovieWriter Pillow unavailable; using Pillow instead.\n"
     ]
    }
   ],
   "source": [
    "ani.save('animation_contour.gif', writer='Pillow', fps=10)"
   ]
  },
  {
   "cell_type": "code",
   "execution_count": null,
   "id": "baff1fa9-a381-412c-9b78-47b2f4306f90",
   "metadata": {},
   "outputs": [],
   "source": []
  }
 ],
 "metadata": {
  "kernelspec": {
   "display_name": "Python (skin)",
   "language": "python",
   "name": "skin"
  },
  "language_info": {
   "codemirror_mode": {
    "name": "ipython",
    "version": 3
   },
   "file_extension": ".py",
   "mimetype": "text/x-python",
   "name": "python",
   "nbconvert_exporter": "python",
   "pygments_lexer": "ipython3",
   "version": "3.10.4"
  }
 },
 "nbformat": 4,
 "nbformat_minor": 5
}
