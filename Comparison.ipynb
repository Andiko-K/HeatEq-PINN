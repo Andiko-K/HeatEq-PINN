{
 "cells": [
  {
   "cell_type": "code",
   "execution_count": 1,
   "id": "73d81c48-d9f5-4339-9681-b20a2d206a28",
   "metadata": {},
   "outputs": [],
   "source": [
    "import numpy as np\n",
    "from matplotlib.animation import FuncAnimation\n",
    "import matplotlib.pyplot as plt\n",
    "\n",
    "from HeatEqFDM import heat_equation\n",
    "from HeatEqPINN import heat_equation_NN"
   ]
  },
  {
   "cell_type": "markdown",
   "id": "40197d1b-9715-438c-8116-5c44facc00f4",
   "metadata": {},
   "source": [
    "# FDM Process"
   ]
  },
  {
   "cell_type": "code",
   "execution_count": 2,
   "id": "b9d22335-394c-47c1-b880-99989f128841",
   "metadata": {},
   "outputs": [],
   "source": [
    "# Initialize Meshgrid\n",
    "x = np.linspace(0,1,100)\n",
    "X,Y = np.meshgrid(x,x)\n",
    "T = np.linspace(0,10,100)\n",
    "HE = heat_equation(X,Y,T)\n",
    "\n",
    "#Initialize Initial Condition\n",
    "norm = lambda x, xmin = 273, xmax = 473: (x-xmin)/(xmax-xmin)\n",
    "init_heat = np.zeros((100,100)) + norm(273)\n",
    "init_heat[0,:] = norm(373)\n",
    "init_heat[:,0] = norm(473)\n",
    "\n",
    "HE.initial_temp(init_heat)\n",
    "\n",
    "#Initialize Boundary Condition\n",
    "bound_temp = [norm(373), norm(273), norm(473), norm(273)]\n",
    "\n",
    "HE.time_array(100,1)\n",
    "\n",
    "#Solve the Equation and Turn to GIF\n",
    "HE.solve_heat(bound_temp = bound_temp, neumann = False)\n",
    "HE.save()"
   ]
  },
  {
   "cell_type": "markdown",
   "id": "feb6ecb7-dc60-456d-bfc6-9d85567acd01",
   "metadata": {},
   "source": [
    "# PINN Process"
   ]
  },
  {
   "cell_type": "code",
   "execution_count": 2,
   "id": "ee83b83d-985e-43b1-862d-e955bbda07e9",
   "metadata": {},
   "outputs": [],
   "source": [
    "#Spatial Domain\n",
    "x = np.linspace(0,1,100)\n",
    "y = np.linspace(0,1,100)\n",
    "#Temporal Domain\n",
    "t = np.linspace(0,10,100)\n",
    "\n",
    "X,Y = np.meshgrid(x,y)\n",
    "T = np.tile(t, 100)\n",
    "\n",
    "#Initiate Normalized Initial Condition\n",
    "norm = lambda x, xmin = 273, xmax = 473: (x-xmin)/(xmax-xmin)\n",
    "U_INIT = np.zeros((100, 100)) + norm(273)\n",
    "U_INIT[:,0] = norm(473) #LEFT INIT\n",
    "U_INIT[:,-1] = norm(273) #RIGHT INIT\n",
    "U_INIT[0,:] = norm(373) #LOWER INIT\n",
    "U_INIT[-1,:] = norm(273) #UPPER INIT\n",
    "X_INIT, Y_INIT = np.meshgrid(x,y)\n",
    "T_INIT = np.zeros_like(X_INIT)\n",
    "\n",
    "#Initiate Normalized Boundary Condition\n",
    "#Left BC U = 473 U(0,y,t)\n",
    "u_left = np.zeros(100)+norm(473)\n",
    "x_left = X[:,0]; y_left = Y[:,0]\n",
    "#Right BC U = -20 U(-1,y,t)\n",
    "u_right = np.zeros(100)+norm(273)\n",
    "x_right = X[:,-1]; y_right = Y[:,-1]\n",
    "#Lower BC U = 373 U(x,0,t)\n",
    "u_lower = np.zeros(100)+norm(373)\n",
    "x_lower = X[0,:]; y_lower = Y[0,:]\n",
    "#Upper BC U = -50 U(x,0,t)\n",
    "u_upper = np.zeros(100)+norm(273)\n",
    "x_upper = X[-1,:]; y_upper = Y[-1,:]\n",
    "#Concat each boundary condition into one\n",
    "U_BOUNDS = np.c_[u_left, u_right, u_lower, u_upper]\n",
    "X_BOUNDS = np.c_[x_left, x_right, x_lower, x_upper]\n",
    "Y_BOUNDS = np.c_[y_left, y_right, y_lower, y_upper]\n",
    "T_BOUNDS = np.tile(t,4)"
   ]
  },
  {
   "cell_type": "code",
   "execution_count": 3,
   "id": "0f1ef492-f3eb-459f-ad86-c6909d166a2b",
   "metadata": {},
   "outputs": [
    {
     "name": "stderr",
     "output_type": "stream",
     "text": [
      "2024-07-10 13:32:56.238082: I tensorflow/core/platform/cpu_feature_guard.cc:151] This TensorFlow binary is optimized with oneAPI Deep Neural Network Library (oneDNN) to use the following CPU instructions in performance-critical operations:  AVX2 FMA\n",
      "To enable them in other operations, rebuild TensorFlow with the appropriate compiler flags.\n",
      "2024-07-10 13:32:57.792061: I tensorflow/core/common_runtime/gpu/gpu_device.cc:1525] Created device /job:localhost/replica:0/task:0/device:GPU:0 with 57569 MB memory:  -> device: 0, name: NVIDIA A100-SXM4-80GB, pci bus id: 0000:07:00.0, compute capability: 8.0\n"
     ]
    },
    {
     "name": "stdout",
     "output_type": "stream",
     "text": [
      "WARNING:tensorflow:Calling GradientTape.gradient on a persistent tape inside its context is significantly less efficient than calling it outside the context (it causes the gradient ops to be recorded on the tape, leading to increased CPU and memory usage). Only call GradientTape.gradient inside the context if you actually want to trace the gradient in order to compute higher order derivatives.\n",
      "WARNING:tensorflow:Calling GradientTape.gradient on a persistent tape inside its context is significantly less efficient than calling it outside the context (it causes the gradient ops to be recorded on the tape, leading to increased CPU and memory usage). Only call GradientTape.gradient inside the context if you actually want to trace the gradient in order to compute higher order derivatives.\n",
      "WARNING:tensorflow:Calling GradientTape.gradient on a persistent tape inside its context is significantly less efficient than calling it outside the context (it causes the gradient ops to be recorded on the tape, leading to increased CPU and memory usage). Only call GradientTape.gradient inside the context if you actually want to trace the gradient in order to compute higher order derivatives.\n"
     ]
    },
    {
     "name": "stderr",
     "output_type": "stream",
     "text": [
      "2024-07-10 13:33:02.611746: I tensorflow/stream_executor/cuda/cuda_blas.cc:1786] TensorFloat-32 will be used for the matrix multiplication. This will only be logged once.\n"
     ]
    },
    {
     "name": "stdout",
     "output_type": "stream",
     "text": [
      "Epoch: 0 Loss: 1.2870\n",
      "Epoch: 100 Loss: 0.0897\n",
      "Epoch: 200 Loss: 0.0805\n",
      "Epoch: 300 Loss: 0.0588\n",
      "Epoch: 400 Loss: 0.0334\n",
      "Epoch: 500 Loss: 0.0251\n",
      "Epoch: 600 Loss: 0.0208\n",
      "Epoch: 700 Loss: 0.0194\n",
      "Epoch: 800 Loss: 0.0162\n",
      "Epoch: 900 Loss: 0.0149\n",
      "Epoch: 1000 Loss: 0.0172\n",
      "Epoch: 1100 Loss: 0.0131\n",
      "Epoch: 1200 Loss: 0.0123\n",
      "Epoch: 1300 Loss: 0.0124\n",
      "Epoch: 1400 Loss: 0.0117\n",
      "Epoch: 1500 Loss: 0.0104\n",
      "Epoch: 1600 Loss: 0.0136\n",
      "Epoch: 1700 Loss: 0.0091\n",
      "Epoch: 1800 Loss: 0.0084\n",
      "Epoch: 1900 Loss: 0.0095\n",
      "Epoch: 2000 Loss: 0.0072\n",
      "Epoch: 2100 Loss: 0.0067\n",
      "Epoch: 2200 Loss: 0.0063\n",
      "Epoch: 2300 Loss: 0.0060\n",
      "Epoch: 2400 Loss: 0.0065\n",
      "Epoch: 2500 Loss: 0.0054\n",
      "Epoch: 2600 Loss: 0.0051\n",
      "Epoch: 2700 Loss: 0.0049\n",
      "Epoch: 2800 Loss: 0.0048\n",
      "Epoch: 2900 Loss: 0.0063\n"
     ]
    }
   ],
   "source": [
    "#Assign point to HENN class\n",
    "HENN = heat_equation_NN(X,Y,T)\n",
    "#Initiate nn_model\n",
    "HENN.nn_model(layers = [128,64,64,64,1])\n",
    "#Assign Initial and Boundary Condition\n",
    "HENN.init_value(X_INIT, Y_INIT, U_INIT, T_INIT)\n",
    "HENN.init_bound(X_BOUNDS, Y_BOUNDS, U_BOUNDS, T_BOUNDS, neumann = False)\n",
    "HENN.train_step(3000, print_step = 100)"
   ]
  },
  {
   "cell_type": "code",
   "execution_count": 4,
   "id": "621bd1ac-3f4b-488e-bc12-8793ff7c9142",
   "metadata": {},
   "outputs": [
    {
     "name": "stdout",
     "output_type": "stream",
     "text": [
      "Frame 0 Done!\n",
      "Frame 10 Done!\n",
      "Frame 20 Done!\n",
      "Frame 30 Done!\n",
      "Frame 40 Done!\n",
      "Frame 50 Done!\n",
      "Frame 60 Done!\n",
      "Frame 70 Done!\n",
      "Frame 80 Done!\n",
      "Frame 90 Done!\n"
     ]
    }
   ],
   "source": [
    "x_new = np.linspace(0,1,100).reshape(-1,1)\n",
    "y_new = np.linspace(0,1,100).reshape(-1,1)\n",
    "X_new, Y_new = np.meshgrid(x_new, y_new)\n",
    "\n",
    "T_new = np.linspace(0,10,100)\n",
    "\n",
    "HENN.predict(X_new, Y_new, T_new)\n",
    "HENN.save()"
   ]
  },
  {
   "cell_type": "markdown",
   "id": "5be8cd2f-3bbf-4135-97cf-f54bdebb11f3",
   "metadata": {},
   "source": [
    "# Combining Both Results"
   ]
  },
  {
   "cell_type": "code",
   "execution_count": 3,
   "id": "2b5648c9-b8b6-416f-8f72-aae0f6774935",
   "metadata": {},
   "outputs": [],
   "source": [
    "FDM = np.load('HeatEqFDM.npy')\n",
    "PINN = np.load('HeatEqPINN.npy')"
   ]
  },
  {
   "cell_type": "code",
   "execution_count": 6,
   "id": "f66a0b11-abc6-4540-8194-331c20e32406",
   "metadata": {},
   "outputs": [
    {
     "name": "stderr",
     "output_type": "stream",
     "text": [
      "MovieWriter Pillow unavailable; using Pillow instead.\n"
     ]
    },
    {
     "data": {
      "image/png": "[encoded data removed]",
      "text/plain": [
       "<Figure size 800x300 with 4 Axes>"
      ]
     },
     "metadata": {},
     "output_type": "display_data"
    }
   ],
   "source": [
    "#Set Figure and minimum/maximum value\n",
    "fig, ax = plt.subplots(1,2, figsize = (8,3))\n",
    "PINN_min = PINN.min(); PINN_max = PINN.max()\n",
    "FDM_min = FDM.min(); FDM_max = FDM.max()\n",
    "\n",
    "#Initate the first contour\n",
    "PINNc = ax[0].contourf(X, Y, PINN[0], vmin=PINN_min, vmax=PINN_max,\n",
    "                             cmap = 'magma')\n",
    "ax[0].set_title('PINN')\n",
    "    \n",
    "FDMc = ax[1].contourf(X, Y, FDM[0], vmin=PINN_min, vmax=PINN_max,\n",
    "                             cmap = 'magma')\n",
    "ax[1].set_title('FDM')\n",
    "    \n",
    "fig.suptitle(0)\n",
    "PINNbar = plt.colorbar(PINNc, ax=ax[0])\n",
    "FDMbar = plt.colorbar(FDMc, ax=ax[1])\n",
    "\n",
    "#Declare update function to update frames of each axes\n",
    "def update(frame):\n",
    "    ax[0].clear(); ax[1].clear()\n",
    "    \n",
    "    PINNc = ax[0].contourf(X, Y, PINN[frame], vmin=PINN_min, vmax=PINN_max,\n",
    "                             cmap = 'magma')\n",
    "    ax[0].set_title('PINN')\n",
    "    \n",
    "    FDMc = ax[1].contourf(X, Y, FDM[frame], vmin=PINN_min, vmax=PINN_max,\n",
    "                             cmap = 'magma')\n",
    "    ax[1].set_title('FDM')\n",
    "    \n",
    "    fig.suptitle(f'{frame*.1:.2f} seconds')\n",
    "    return PINNc, FDMc\n",
    "        \n",
    "num_frames = PINN.shape[0]\n",
    "ani = FuncAnimation(fig, update, frames=num_frames, interval=100)\n",
    "ani.save('CompareAnimation.gif', writer='Pillow', fps=10)"
   ]
  },
  {
   "cell_type": "code",
   "execution_count": null,
   "id": "7ef0d888-5cfe-4af5-b207-4dbaa5561124",
   "metadata": {},
   "outputs": [],
   "source": []
  }
 ],
 "metadata": {
  "kernelspec": {
   "display_name": "Python (skin)",
   "language": "python",
   "name": "skin"
  },
  "language_info": {
   "codemirror_mode": {
    "name": "ipython",
    "version": 3
   },
   "file_extension": ".py",
   "mimetype": "text/x-python",
   "name": "python",
   "nbconvert_exporter": "python",
   "pygments_lexer": "ipython3",
   "version": "3.10.4"
  }
 },
 "nbformat": 4,
 "nbformat_minor": 5
}
